{
 "cells": [
  {
   "cell_type": "markdown",
   "metadata": {},
   "source": [
    "# APIs - Cumulative Lab\n",
    "\n",
    "\n",
    "## Introduction \n",
    "\n",
    "We've seen how the Yelp API works and how to create basic visualizations using Folium. It's time to put those skills to work in order to create a working map! Taking things a step further, you'll also independently explore how to perform pagination in order to retrieve a full results set from the Yelp API.\n",
    "\n",
    "## Objectives\n",
    "\n",
    "You will be able to: \n",
    "\n",
    "* Practice using functions to organize your code\n",
    "* Use pagination to retrieve all results from an API query\n",
    "* Practice parsing data returned from an API query\n",
    "* Practice interpreting visualizations of a dataset\n",
    "* Create maps using Folium"
   ]
  },
  {
   "cell_type": "markdown",
   "metadata": {},
   "source": [
    "## Your Task: Query Yelp for All Businesses in a Category and Analyze the Results\n",
    "\n",
    "![restaurant counter with pizza](images/restaurant_counter.jpg)\n",
    "\n",
    "Photo by <a href=\"https://unsplash.com/@jordanmadrid?utm_source=unsplash&utm_medium=referral&utm_content=creditCopyText\">Jordan Madrid</a> on <a href=\"/s/photos/pizza-restaurant?utm_source=unsplash&utm_medium=referral&utm_content=creditCopyText\">Unsplash</a>"
   ]
  },
  {
   "cell_type": "markdown",
   "metadata": {},
   "source": [
    "### Overview\n",
    "\n",
    "You've now worked with some API calls, but we have yet to see how to retrieve a more complete dataset in a programmatic manner. In this lab, you will write a query of businesses on Yelp, then use *pagination* to retrieve all possible results for that query. Then you will create a summary of your findings, including a Folium map of the geographic locations of those businesses.\n",
    "\n",
    "### Technical Details\n",
    "\n",
    "Returning to the Yelp API, the [documentation](https://www.yelp.com/developers/documentation/v3/business_search) also provides us details regarding the **API limits**. These often include details about the number of requests a user is allowed to make within a specified time limit and the maximum number of results to be returned. In this case, we are told that any request has a **maximum of 50 results per request** and defaults to 20. Furthermore, any search will be limited to a **total of 1000 results**. To retrieve all 1000 of these results, we would have to page through the results piece by piece, retrieving 50 at a time. Processes such as these are often referred to as pagination.\n",
    "\n",
    "Also, be mindful of the **API** ***rate*** **limits**. You can only make **5000 requests per day** and are also can make requests too fast. Start prototyping small before running a loop that could be faulty. You can also use `time.sleep(n)` to add delays. For more details see https://www.yelp.com/developers/documentation/v3/rate_limiting.\n",
    "\n",
    "In this lab, you will define a search and then paginate over the results to retrieve all of the results. You'll then parse these responses as a list of dictionaries (for further exploration) and create a map using Folium to visualize the results geographically.\n",
    "\n",
    "### Requirements\n",
    "\n",
    "#### 1. Make the Initial Request\n",
    "\n",
    "Start by filling in your API key to make the initial request to the business search API. Investigate the structure of the response you get back and start figuring out how you will extract the relevant information.\n",
    "\n",
    "#### 2. Add Pagination\n",
    "\n",
    "Using loops and functions, collect the maximum number of results for your query from the API.\n",
    "\n",
    "#### 3. Perform Exploratory Analysis\n",
    "\n",
    "Interpret visualizations related to the price range, average rating, and number of reviews for all query results.\n",
    "\n",
    "#### 4. Create a Folium Map\n",
    "\n",
    "Using latitude and longitude data, plot the query results on an interactive map."
   ]
  },
  {
   "cell_type": "markdown",
   "metadata": {},
   "source": [
    "## 1. Make the Initial Request\n",
    "\n",
    "### Querying\n",
    "\n",
    "Start by making an initial request to the Yelp API. Your search must include at least 2 parameters: **term** and **location**. For example, you might search for pizza restaurants in NYC. The term and location is up to you but make the request below.\n",
    "\n",
    "Use the `requests` library ([documentation here](https://requests.readthedocs.io/en/master/user/quickstart/#make-a-request)).\n",
    "\n",
    "You'll also need an API key from Yelp. If you haven't done this already, go to the Yelp [Manage App page](https://www.yelp.com/developers/v3/manage_app) and create a new app (after making an account if you haven't already)."
   ]
  },
  {
   "cell_type": "code",
   "execution_count": 32,
   "metadata": {
    "ExecuteTime": {
     "end_time": "2022-03-04T19:40:49.498094Z",
     "start_time": "2022-03-04T19:40:48.948862Z"
    }
   },
   "outputs": [
    {
     "data": {
      "text/plain": [
       "<Response [200]>"
      ]
     },
     "execution_count": 32,
     "metadata": {},
     "output_type": "execute_result"
    }
   ],
   "source": [
    "# Replace None with appropriate code\n",
    "\n",
    "# Import the requests library\n",
    "import requests\n",
    "import json\n",
    "\n",
    "# Get this from the \"Manage App\" page. Make sure you set them\n",
    "# back to None before pushing this to GitHub, since otherwise\n",
    "# your credentials will be compromised\n",
    "\n",
    "def get_keys(path):\n",
    "    with open(path) as f:\n",
    "        return json.load(f)\n",
    "    \n",
    "keys = get_keys(None)\n",
    "\n",
    "api_key = keys[None]\n",
    "\n",
    "# These can be whatever you want! But the solution uses \"pizza\"\n",
    "# and \"New York NY\" if you want to compare your work directly\n",
    "term = 'pizza'\n",
    "location = 'New York NY'\n",
    "\n",
    "# Set up params for request\n",
    "url = \"https://api.yelp.com/v3/businesses/search\"\n",
    "headers = {\n",
    "    \"Authorization\": \"Bearer {}\".format(api_key)\n",
    "}\n",
    "url_params = {\n",
    "    \"term\": term.replace(\" \", \"+\"),\n",
    "    \"location\": location.replace(\" \", \"+\")\n",
    "}\n",
    "\n",
    "# Make the request using requests.get, passing in\n",
    "# url, headers=headers, and params=url_params\n",
    "response = requests.get(url, headers=headers, params=url_params)\n",
    "\n",
    "# Confirm we got a 200 response\n",
    "response"
   ]
  },
  {
   "cell_type": "code",
   "execution_count": 33,
   "metadata": {
    "ExecuteTime": {
     "end_time": "2022-03-04T19:40:50.642920Z",
     "start_time": "2022-03-04T19:40:50.635546Z"
    }
   },
   "outputs": [
    {
     "data": {
      "text/plain": [
       "dict_keys(['businesses', 'total', 'region'])"
      ]
     },
     "execution_count": 33,
     "metadata": {},
     "output_type": "execute_result"
    }
   ],
   "source": [
    "# Run this cell without changes\n",
    "\n",
    "# Get the response body in JSON format\n",
    "response_json = response.json()\n",
    "# View the keys\n",
    "response_json.keys()"
   ]
  },
  {
   "cell_type": "markdown",
   "metadata": {},
   "source": [
    "### Extracting Data\n",
    "\n",
    "Now, retrieve the value associated with the `'businesses'` key, and inspect its contents."
   ]
  },
  {
   "cell_type": "code",
   "execution_count": 34,
   "metadata": {
    "ExecuteTime": {
     "end_time": "2022-03-04T19:40:56.915421Z",
     "start_time": "2022-03-04T19:40:56.898775Z"
    }
   },
   "outputs": [
    {
     "data": {
      "text/plain": [
       "[{'id': 'zj8Lq1T8KIC5zwFief15jg',\n",
       "  'alias': 'prince-street-pizza-new-york-2',\n",
       "  'name': 'Prince Street Pizza',\n",
       "  'image_url': 'https://s3-media3.fl.yelpcdn.com/bphoto/ZAukOyv530w4KjOHC5YY1w/o.jpg',\n",
       "  'is_closed': False,\n",
       "  'url': 'https://www.yelp.com/biz/prince-street-pizza-new-york-2?adjust_creative=R2HmjML1DmwztNnRPWxFzA&utm_campaign=yelp_api_v3&utm_medium=api_v3_business_search&utm_source=R2HmjML1DmwztNnRPWxFzA',\n",
       "  'review_count': 4218,\n",
       "  'categories': [{'alias': 'pizza', 'title': 'Pizza'},\n",
       "   {'alias': 'italian', 'title': 'Italian'}],\n",
       "  'rating': 4.5,\n",
       "  'coordinates': {'latitude': 40.72308755605564,\n",
       "   'longitude': -73.99453001177575},\n",
       "  'transactions': ['delivery', 'pickup'],\n",
       "  'price': '$',\n",
       "  'location': {'address1': '27 Prince St',\n",
       "   'address2': None,\n",
       "   'address3': '',\n",
       "   'city': 'New York',\n",
       "   'zip_code': '10012',\n",
       "   'country': 'US',\n",
       "   'state': 'NY',\n",
       "   'display_address': ['27 Prince St', 'New York, NY 10012']},\n",
       "  'phone': '+12129664100',\n",
       "  'display_phone': '(212) 966-4100',\n",
       "  'distance': 1961.8771417367063},\n",
       " {'id': 'WG639VkTjmK5dzydd1BBJA',\n",
       "  'alias': 'rubirosa-new-york-2',\n",
       "  'name': 'Rubirosa',\n",
       "  'image_url': 'https://s3-media4.fl.yelpcdn.com/bphoto/LuSzR8cpVQRofXOT_bMi1A/o.jpg',\n",
       "  'is_closed': False,\n",
       "  'url': 'https://www.yelp.com/biz/rubirosa-new-york-2?adjust_creative=R2HmjML1DmwztNnRPWxFzA&utm_campaign=yelp_api_v3&utm_medium=api_v3_business_search&utm_source=R2HmjML1DmwztNnRPWxFzA',\n",
       "  'review_count': 2567,\n",
       "  'categories': [{'alias': 'italian', 'title': 'Italian'},\n",
       "   {'alias': 'pizza', 'title': 'Pizza'}],\n",
       "  'rating': 4.5,\n",
       "  'coordinates': {'latitude': 40.722766, 'longitude': -73.996233},\n",
       "  'transactions': ['delivery', 'pickup'],\n",
       "  'price': '$$',\n",
       "  'location': {'address1': '235 Mulberry St',\n",
       "   'address2': '',\n",
       "   'address3': '',\n",
       "   'city': 'New York',\n",
       "   'zip_code': '10012',\n",
       "   'country': 'US',\n",
       "   'state': 'NY',\n",
       "   'display_address': ['235 Mulberry St', 'New York, NY 10012']},\n",
       "  'phone': '+12129650500',\n",
       "  'display_phone': '(212) 965-0500',\n",
       "  'distance': 1932.9467701334759}]"
      ]
     },
     "execution_count": 34,
     "metadata": {},
     "output_type": "execute_result"
    }
   ],
   "source": [
    "# Replace None with appropriate code\n",
    "\n",
    "# Retrieve the value from response_json\n",
    "businesses = response_json['businesses']\n",
    "\n",
    "# View the first 2 records\n",
    "businesses[:2]"
   ]
  },
  {
   "cell_type": "markdown",
   "metadata": {},
   "source": [
    "### Preparing Data\n",
    "\n",
    "Write a function `prepare_data` that takes in a list of dictionaries like `businesses` and returns a copy that has been prepared for analysis:\n",
    "\n",
    "1. The `coordinates` key-value pair has been converted into two separate key-value pairs, `latitude` and `longitude`\n",
    "2. All other key-value pairs except for `name`, `review_count`, `rating`, and `price` have been dropped\n",
    "3. All dictionaries missing one of the relevant keys or containing null values have been dropped\n",
    "\n",
    "In other words, the final keys for each dictionary should be `name`, `review_count`, `rating`, `price`, `latitude`, and `longitude`.\n",
    "\n",
    "Complete the function in the cell below:"
   ]
  },
  {
   "cell_type": "code",
   "execution_count": 35,
   "metadata": {
    "ExecuteTime": {
     "end_time": "2022-03-04T19:41:10.383467Z",
     "start_time": "2022-03-04T19:41:10.372744Z"
    }
   },
   "outputs": [
    {
     "data": {
      "text/plain": [
       "[{'name': 'Prince Street Pizza',\n",
       "  'review_count': 4218,\n",
       "  'rating': 4.5,\n",
       "  'price': '$',\n",
       "  'latitude': 40.72308755605564,\n",
       "  'longitude': -73.99453001177575},\n",
       " {'name': 'Rubirosa',\n",
       "  'review_count': 2567,\n",
       "  'rating': 4.5,\n",
       "  'price': '$$',\n",
       "  'latitude': 40.722766,\n",
       "  'longitude': -73.996233},\n",
       " {'name': \"Lombardi's Pizza\",\n",
       "  'review_count': 6267,\n",
       "  'rating': 4.0,\n",
       "  'price': '$$',\n",
       "  'latitude': 40.7215934960083,\n",
       "  'longitude': -73.9955956044561},\n",
       " {'name': \"Juliana's\",\n",
       "  'review_count': 2402,\n",
       "  'rating': 4.5,\n",
       "  'price': '$$',\n",
       "  'latitude': 40.70274718768062,\n",
       "  'longitude': -73.99343490196397},\n",
       " {'name': \"Grimaldi's Pizzeria\",\n",
       "  'review_count': 4738,\n",
       "  'rating': 3.5,\n",
       "  'price': '$$',\n",
       "  'latitude': 40.702583,\n",
       "  'longitude': -73.9932413}]"
      ]
     },
     "execution_count": 35,
     "metadata": {},
     "output_type": "execute_result"
    }
   ],
   "source": [
    "# Replace None with appropriate code\n",
    "\n",
    "def prepare_data(data_list):\n",
    "    \"\"\"\n",
    "    This function takes in a list of dictionaries and prepares it\n",
    "    for analysis\n",
    "    \"\"\"\n",
    "    \n",
    "    # Make a new list to hold results\n",
    "    results = []\n",
    "    \n",
    "    for business_data in data_list:\n",
    "    \n",
    "        # Make a new dictionary to hold prepared data for this business\n",
    "        prepared_data = {}\n",
    "        \n",
    "        # Extract name, review_count, rating, and price key-value pairs\n",
    "        # from business_data and add to prepared_data\n",
    "        # If a key is not present in business_data, add it to prepared_data\n",
    "        # with an associated value of None\n",
    "        for key in (\"name\", \"review_count\", \"rating\", \"price\"):\n",
    "            prepared_data[key] = business_data.get(key, None)\n",
    "\n",
    "\n",
    "    \n",
    "        # Parse and add latitude and longitude columns\n",
    "        prepared_data['latitude'] = business_data['coordinates']['latitude']\n",
    "        prepared_data['longitude'] = business_data['coordinates']['longitude']\n",
    "        \n",
    "        # Add to list if all values are present\n",
    "        if all(prepared_data.values()):\n",
    "            results.append(prepared_data)\n",
    "    \n",
    "    return results\n",
    "    \n",
    "# Test out function\n",
    "prepared_businesses = prepare_data(businesses)\n",
    "prepared_businesses[:5]"
   ]
  },
  {
   "cell_type": "markdown",
   "metadata": {},
   "source": [
    "Check that your function created the correct keys:"
   ]
  },
  {
   "cell_type": "code",
   "execution_count": 36,
   "metadata": {
    "ExecuteTime": {
     "end_time": "2022-03-04T19:41:12.792500Z",
     "start_time": "2022-03-04T19:41:12.779913Z"
    }
   },
   "outputs": [],
   "source": [
    "# Run this cell without changes\n",
    "\n",
    "assert sorted(list(prepared_businesses[0].keys())) == ['latitude', 'longitude', 'name', 'price', 'rating', 'review_count']"
   ]
  },
  {
   "cell_type": "markdown",
   "metadata": {},
   "source": [
    "The following code will differ depending on your query, but we expect there to be 20 businesses in the original list, and potentially fewer in the prepared list (if any of them were missing data):"
   ]
  },
  {
   "cell_type": "code",
   "execution_count": 37,
   "metadata": {
    "ExecuteTime": {
     "end_time": "2022-03-04T19:41:14.797735Z",
     "start_time": "2022-03-04T19:41:14.784801Z"
    }
   },
   "outputs": [
    {
     "name": "stdout",
     "output_type": "stream",
     "text": [
      "Original: 20\n",
      "Prepared: 20\n"
     ]
    }
   ],
   "source": [
    "# Run this cell without changes\n",
    "print(\"Original:\", len(businesses))\n",
    "print(\"Prepared:\", len(prepared_businesses))"
   ]
  },
  {
   "cell_type": "markdown",
   "metadata": {},
   "source": [
    "Great! We will reuse this function once we have retrieved the full dataset."
   ]
  },
  {
   "cell_type": "markdown",
   "metadata": {},
   "source": [
    "## 2. Add Pagination\n",
    "\n",
    "Now that you are able to extract information from one page of the response, let's figure out how to request as many pages as possible.\n",
    "\n",
    "### Determining the Total\n",
    "\n",
    "Depending on the number of total results for your query, you will either retrieve all of the results, or just the first 1000 (if there are more than 1000 total).\n",
    "\n",
    "We can find the total number of results using the `\"total\"` key:"
   ]
  },
  {
   "cell_type": "code",
   "execution_count": 38,
   "metadata": {
    "ExecuteTime": {
     "end_time": "2022-03-04T19:41:17.063140Z",
     "start_time": "2022-03-04T19:41:17.058160Z"
    }
   },
   "outputs": [
    {
     "data": {
      "text/plain": [
       "11900"
      ]
     },
     "execution_count": 38,
     "metadata": {},
     "output_type": "execute_result"
    }
   ],
   "source": [
    "# Run this cell without changes\n",
    "response_json[\"total\"]"
   ]
  },
  {
   "cell_type": "markdown",
   "metadata": {},
   "source": [
    "(This is specific to the implementation of the Yelp API. Some APIs will just tell you that there are more pages, or will tell you the number of pages total, rather than the total number of results. If you're not sure, always check the documentation.)\n",
    "\n",
    "In the cell below, assign the variable `total` to either the value shown above (if it is less than 1000), or 1000."
   ]
  },
  {
   "cell_type": "code",
   "execution_count": 39,
   "metadata": {
    "ExecuteTime": {
     "end_time": "2022-03-04T19:41:18.703380Z",
     "start_time": "2022-03-04T19:41:18.694453Z"
    }
   },
   "outputs": [],
   "source": [
    "# Replace None with appropriate code\n",
    "total = 1000"
   ]
  },
  {
   "cell_type": "markdown",
   "metadata": {},
   "source": [
    "### Calculating the Offsets\n",
    "\n",
    "The documentation states in the parameters section:\n",
    "\n",
    "> **Name**: `limit`, **Type:** int, **Description:** Optional. Number of business results to return. By default, it will return 20. Maximum is 50.\n",
    "\n",
    "> **Name**: `offset`, **Type:** int, **Description:** Optional. Offset the list of returned business results by this amount.\n",
    "\n",
    "So, to get the most results with the fewest API calls we want to set a limit of 50 every time. If, say, we wanted to get 210 total results, that would mean:\n",
    "\n",
    "1. Offset of `0` (first 50 records)\n",
    "2. Offset of `50` (second 50 records)\n",
    "3. Offset of `100` (third 50 records)\n",
    "4. Offset of `150` (fourth 50 records)\n",
    "5. Offset of `200` (final 10 records)\n",
    "\n",
    "In the cell below, create a function `get_offsets` that takes in a total and returns a list of offsets for that total. You can assume that there is a limit of 50 every time.\n",
    "\n",
    "*Hint: you can use `range` ([documentation here](https://docs.python.org/3.3/library/stdtypes.html?highlight=range#range)) to do this in one line of code. Just make the returned result is a list.*"
   ]
  },
  {
   "cell_type": "code",
   "execution_count": 40,
   "metadata": {
    "ExecuteTime": {
     "end_time": "2022-03-04T19:41:20.755213Z",
     "start_time": "2022-03-04T19:41:20.738214Z"
    }
   },
   "outputs": [],
   "source": [
    "# Replace None with appropriate code\n",
    "def get_offsets(total):\n",
    "    \"\"\"\n",
    "    Get a list of offsets needed to get all pages\n",
    "    of data up until the total\n",
    "    \"\"\"\n",
    "    return list(range(0, total, 50))\n"
   ]
  },
  {
   "cell_type": "markdown",
   "metadata": {},
   "source": [
    "Check that your function works below:"
   ]
  },
  {
   "cell_type": "code",
   "execution_count": 41,
   "metadata": {
    "ExecuteTime": {
     "end_time": "2022-03-04T19:41:21.340897Z",
     "start_time": "2022-03-04T19:41:21.323754Z"
    }
   },
   "outputs": [],
   "source": [
    "# Run this cell without changes\n",
    "\n",
    "assert get_offsets(200) == [0, 50, 100, 150]\n",
    "assert get_offsets(210) == [0, 50, 100, 150, 200]"
   ]
  },
  {
   "cell_type": "markdown",
   "metadata": {},
   "source": [
    "### Putting It All Together\n",
    "\n",
    "Recall that the following variable has already been declared for you:"
   ]
  },
  {
   "cell_type": "code",
   "execution_count": 42,
   "metadata": {
    "ExecuteTime": {
     "end_time": "2022-03-04T19:41:27.050273Z",
     "start_time": "2022-03-04T19:41:27.036158Z"
    }
   },
   "outputs": [
    {
     "data": {
      "text/plain": [
       "{'term': 'pizza', 'location': 'New+York+NY'}"
      ]
     },
     "execution_count": 42,
     "metadata": {},
     "output_type": "execute_result"
    }
   ],
   "source": [
    "# Run this cell without changes\n",
    "url_params"
   ]
  },
  {
   "cell_type": "markdown",
   "metadata": {},
   "source": [
    "We'll go ahead and also specify that the limit should be 50 every time:"
   ]
  },
  {
   "cell_type": "code",
   "execution_count": 43,
   "metadata": {
    "ExecuteTime": {
     "end_time": "2022-03-04T19:41:27.096279Z",
     "start_time": "2022-03-04T19:41:27.087709Z"
    }
   },
   "outputs": [],
   "source": [
    "# Run this cell without changes\n",
    "url_params[\"limit\"] = 50"
   ]
  },
  {
   "cell_type": "markdown",
   "metadata": {},
   "source": [
    "In order to modify the offset, you'll need to add it to `url_params` with the key `\"offset\"` and whatever value is needed.\n",
    "\n",
    "In the cell below, write code that:\n",
    "\n",
    "* Creates an empty list for the full prepared dataset\n",
    "* Loops over all of the offsets from `get_offsets` and makes an API call each time with the specified offset\n",
    "* Calls `prepare_data` to get a cleaned version of the result of each API call\n",
    "* Extends the full prepared dataset list with each query's prepared dataset"
   ]
  },
  {
   "cell_type": "code",
   "execution_count": 44,
   "metadata": {
    "ExecuteTime": {
     "end_time": "2022-03-04T19:41:27.158421Z",
     "start_time": "2022-03-04T19:41:27.129532Z"
    }
   },
   "outputs": [
    {
     "data": {
      "text/plain": [
       "[{'id': 'zj8Lq1T8KIC5zwFief15jg',\n",
       "  'alias': 'prince-street-pizza-new-york-2',\n",
       "  'name': 'Prince Street Pizza',\n",
       "  'image_url': 'https://s3-media3.fl.yelpcdn.com/bphoto/ZAukOyv530w4KjOHC5YY1w/o.jpg',\n",
       "  'is_closed': False,\n",
       "  'url': 'https://www.yelp.com/biz/prince-street-pizza-new-york-2?adjust_creative=R2HmjML1DmwztNnRPWxFzA&utm_campaign=yelp_api_v3&utm_medium=api_v3_business_search&utm_source=R2HmjML1DmwztNnRPWxFzA',\n",
       "  'review_count': 4218,\n",
       "  'categories': [{'alias': 'pizza', 'title': 'Pizza'},\n",
       "   {'alias': 'italian', 'title': 'Italian'}],\n",
       "  'rating': 4.5,\n",
       "  'coordinates': {'latitude': 40.72308755605564,\n",
       "   'longitude': -73.99453001177575},\n",
       "  'transactions': ['delivery', 'pickup'],\n",
       "  'price': '$',\n",
       "  'location': {'address1': '27 Prince St',\n",
       "   'address2': None,\n",
       "   'address3': '',\n",
       "   'city': 'New York',\n",
       "   'zip_code': '10012',\n",
       "   'country': 'US',\n",
       "   'state': 'NY',\n",
       "   'display_address': ['27 Prince St', 'New York, NY 10012']},\n",
       "  'phone': '+12129664100',\n",
       "  'display_phone': '(212) 966-4100',\n",
       "  'distance': 1961.8771417367063},\n",
       " {'id': 'WG639VkTjmK5dzydd1BBJA',\n",
       "  'alias': 'rubirosa-new-york-2',\n",
       "  'name': 'Rubirosa',\n",
       "  'image_url': 'https://s3-media4.fl.yelpcdn.com/bphoto/LuSzR8cpVQRofXOT_bMi1A/o.jpg',\n",
       "  'is_closed': False,\n",
       "  'url': 'https://www.yelp.com/biz/rubirosa-new-york-2?adjust_creative=R2HmjML1DmwztNnRPWxFzA&utm_campaign=yelp_api_v3&utm_medium=api_v3_business_search&utm_source=R2HmjML1DmwztNnRPWxFzA',\n",
       "  'review_count': 2567,\n",
       "  'categories': [{'alias': 'italian', 'title': 'Italian'},\n",
       "   {'alias': 'pizza', 'title': 'Pizza'}],\n",
       "  'rating': 4.5,\n",
       "  'coordinates': {'latitude': 40.722766, 'longitude': -73.996233},\n",
       "  'transactions': ['delivery', 'pickup'],\n",
       "  'price': '$$',\n",
       "  'location': {'address1': '235 Mulberry St',\n",
       "   'address2': '',\n",
       "   'address3': '',\n",
       "   'city': 'New York',\n",
       "   'zip_code': '10012',\n",
       "   'country': 'US',\n",
       "   'state': 'NY',\n",
       "   'display_address': ['235 Mulberry St', 'New York, NY 10012']},\n",
       "  'phone': '+12129650500',\n",
       "  'display_phone': '(212) 965-0500',\n",
       "  'distance': 1932.9467701334759},\n",
       " {'id': 'WIhm0W9197f_rRtDziq5qQ',\n",
       "  'alias': 'lombardis-pizza-new-york-4',\n",
       "  'name': \"Lombardi's Pizza\",\n",
       "  'image_url': 'https://s3-media1.fl.yelpcdn.com/bphoto/UZ6V_hobp1KpYDPOHNoCKw/o.jpg',\n",
       "  'is_closed': False,\n",
       "  'url': 'https://www.yelp.com/biz/lombardis-pizza-new-york-4?adjust_creative=R2HmjML1DmwztNnRPWxFzA&utm_campaign=yelp_api_v3&utm_medium=api_v3_business_search&utm_source=R2HmjML1DmwztNnRPWxFzA',\n",
       "  'review_count': 6267,\n",
       "  'categories': [{'alias': 'pizza', 'title': 'Pizza'}],\n",
       "  'rating': 4.0,\n",
       "  'coordinates': {'latitude': 40.7215934960083,\n",
       "   'longitude': -73.9955956044561},\n",
       "  'transactions': ['delivery', 'pickup'],\n",
       "  'price': '$$',\n",
       "  'location': {'address1': '32 Spring St',\n",
       "   'address2': '',\n",
       "   'address3': '',\n",
       "   'city': 'New York',\n",
       "   'zip_code': '10012',\n",
       "   'country': 'US',\n",
       "   'state': 'NY',\n",
       "   'display_address': ['32 Spring St', 'New York, NY 10012']},\n",
       "  'phone': '+12129417994',\n",
       "  'display_phone': '(212) 941-7994',\n",
       "  'distance': 1798.9959778083735},\n",
       " {'id': 'ysqgdbSrezXgVwER2kQWKA',\n",
       "  'alias': 'julianas-brooklyn-3',\n",
       "  'name': \"Juliana's\",\n",
       "  'image_url': 'https://s3-media2.fl.yelpcdn.com/bphoto/clscwgOF9_Ecq-Rwsq7jyQ/o.jpg',\n",
       "  'is_closed': False,\n",
       "  'url': 'https://www.yelp.com/biz/julianas-brooklyn-3?adjust_creative=R2HmjML1DmwztNnRPWxFzA&utm_campaign=yelp_api_v3&utm_medium=api_v3_business_search&utm_source=R2HmjML1DmwztNnRPWxFzA',\n",
       "  'review_count': 2402,\n",
       "  'categories': [{'alias': 'pizza', 'title': 'Pizza'}],\n",
       "  'rating': 4.5,\n",
       "  'coordinates': {'latitude': 40.70274718768062,\n",
       "   'longitude': -73.99343490196397},\n",
       "  'transactions': ['delivery'],\n",
       "  'price': '$$',\n",
       "  'location': {'address1': '19 Old Fulton St',\n",
       "   'address2': '',\n",
       "   'address3': '',\n",
       "   'city': 'Brooklyn',\n",
       "   'zip_code': '11201',\n",
       "   'country': 'US',\n",
       "   'state': 'NY',\n",
       "   'display_address': ['19 Old Fulton St', 'Brooklyn, NY 11201']},\n",
       "  'phone': '+17185966700',\n",
       "  'display_phone': '(718) 596-6700',\n",
       "  'distance': 308.56984360837544},\n",
       " {'id': '2ggi1luerd3Mf_C82JvCYg',\n",
       "  'alias': 'grimaldis-pizzeria-brooklyn-4',\n",
       "  'name': \"Grimaldi's Pizzeria\",\n",
       "  'image_url': 'https://s3-media2.fl.yelpcdn.com/bphoto/TNKqW31PTvtSw6-Lbc1mtA/o.jpg',\n",
       "  'is_closed': False,\n",
       "  'url': 'https://www.yelp.com/biz/grimaldis-pizzeria-brooklyn-4?adjust_creative=R2HmjML1DmwztNnRPWxFzA&utm_campaign=yelp_api_v3&utm_medium=api_v3_business_search&utm_source=R2HmjML1DmwztNnRPWxFzA',\n",
       "  'review_count': 4738,\n",
       "  'categories': [{'alias': 'pizza', 'title': 'Pizza'}],\n",
       "  'rating': 3.5,\n",
       "  'coordinates': {'latitude': 40.702583, 'longitude': -73.9932413},\n",
       "  'transactions': ['delivery', 'pickup'],\n",
       "  'price': '$$',\n",
       "  'location': {'address1': '1 Front St',\n",
       "   'address2': '',\n",
       "   'address3': '',\n",
       "   'city': 'Brooklyn',\n",
       "   'zip_code': '11201',\n",
       "   'country': 'US',\n",
       "   'state': 'NY',\n",
       "   'display_address': ['1 Front St', 'Brooklyn, NY 11201']},\n",
       "  'phone': '+17188584300',\n",
       "  'display_phone': '(718) 858-4300',\n",
       "  'distance': 330.34746206527655},\n",
       " {'id': 'Q9F2ocrmYuGt1yn3M7MOBw',\n",
       "  'alias': 'lucali-brooklyn-3',\n",
       "  'name': 'Lucali',\n",
       "  'image_url': 'https://s3-media3.fl.yelpcdn.com/bphoto/Yl_eZ_DW_iaumnU-pfSoaw/o.jpg',\n",
       "  'is_closed': False,\n",
       "  'url': 'https://www.yelp.com/biz/lucali-brooklyn-3?adjust_creative=R2HmjML1DmwztNnRPWxFzA&utm_campaign=yelp_api_v3&utm_medium=api_v3_business_search&utm_source=R2HmjML1DmwztNnRPWxFzA',\n",
       "  'review_count': 1763,\n",
       "  'categories': [{'alias': 'pizza', 'title': 'Pizza'}],\n",
       "  'rating': 4.0,\n",
       "  'coordinates': {'latitude': 40.6818, 'longitude': -74.00024},\n",
       "  'transactions': ['delivery'],\n",
       "  'price': '$$',\n",
       "  'location': {'address1': '575 Henry St',\n",
       "   'address2': None,\n",
       "   'address3': '',\n",
       "   'city': 'Brooklyn',\n",
       "   'zip_code': '11231',\n",
       "   'country': 'US',\n",
       "   'state': 'NY',\n",
       "   'display_address': ['575 Henry St', 'Brooklyn, NY 11231']},\n",
       "  'phone': '+17188584086',\n",
       "  'display_phone': '(718) 858-4086',\n",
       "  'distance': 2674.849860473569},\n",
       " {'id': 'MphfKkYFEe0BDQ6hZ0A5fA',\n",
       "  'alias': 'gelso-and-grand-new-york',\n",
       "  'name': 'Gelso & Grand',\n",
       "  'image_url': 'https://s3-media3.fl.yelpcdn.com/bphoto/hkiNG-bPWX459H2KIBrsvA/o.jpg',\n",
       "  'is_closed': False,\n",
       "  'url': 'https://www.yelp.com/biz/gelso-and-grand-new-york?adjust_creative=R2HmjML1DmwztNnRPWxFzA&utm_campaign=yelp_api_v3&utm_medium=api_v3_business_search&utm_source=R2HmjML1DmwztNnRPWxFzA',\n",
       "  'review_count': 1168,\n",
       "  'categories': [{'alias': 'italian', 'title': 'Italian'},\n",
       "   {'alias': 'pastashops', 'title': 'Pasta Shops'},\n",
       "   {'alias': 'pizza', 'title': 'Pizza'}],\n",
       "  'rating': 4.5,\n",
       "  'coordinates': {'latitude': 40.7194089547259,\n",
       "   'longitude': -73.9973777877722},\n",
       "  'transactions': ['delivery', 'pickup'],\n",
       "  'price': '$$',\n",
       "  'location': {'address1': '186 Grand St',\n",
       "   'address2': '',\n",
       "   'address3': '',\n",
       "   'city': 'New York',\n",
       "   'zip_code': '10013',\n",
       "   'country': 'US',\n",
       "   'state': 'NY',\n",
       "   'display_address': ['186 Grand St', 'New York, NY 10013']},\n",
       "  'phone': '+12122261600',\n",
       "  'display_phone': '(212) 226-1600',\n",
       "  'distance': 1574.3490321455226},\n",
       " {'id': 'FhXjAc6nKLf414KxYujUHw',\n",
       "  'alias': 'robertas-brooklyn-2',\n",
       "  'name': \"Roberta's\",\n",
       "  'image_url': 'https://s3-media4.fl.yelpcdn.com/bphoto/8fY9fA5TtCF0ebdTNph9mQ/o.jpg',\n",
       "  'is_closed': False,\n",
       "  'url': 'https://www.yelp.com/biz/robertas-brooklyn-2?adjust_creative=R2HmjML1DmwztNnRPWxFzA&utm_campaign=yelp_api_v3&utm_medium=api_v3_business_search&utm_source=R2HmjML1DmwztNnRPWxFzA',\n",
       "  'review_count': 3067,\n",
       "  'categories': [{'alias': 'pizza', 'title': 'Pizza'},\n",
       "   {'alias': 'italian', 'title': 'Italian'}],\n",
       "  'rating': 4.0,\n",
       "  'coordinates': {'latitude': 40.70493, 'longitude': -73.93399},\n",
       "  'transactions': ['delivery', 'pickup'],\n",
       "  'price': '$$',\n",
       "  'location': {'address1': '261 Moore St',\n",
       "   'address2': '',\n",
       "   'address3': '',\n",
       "   'city': 'Brooklyn',\n",
       "   'zip_code': '11206',\n",
       "   'country': 'US',\n",
       "   'state': 'NY',\n",
       "   'display_address': ['261 Moore St', 'Brooklyn, NY 11206']},\n",
       "  'phone': '+17184171118',\n",
       "  'display_phone': '(718) 417-1118',\n",
       "  'distance': 5083.5233118395545},\n",
       " {'id': 'LF1QAuvpfX7KGQlg2zMg6Q',\n",
       "  'alias': 'johns-of-bleecker-street-new-york-2',\n",
       "  'name': \"John's of Bleecker Street\",\n",
       "  'image_url': 'https://s3-media1.fl.yelpcdn.com/bphoto/r2bmU0uH-6SSxqjRbITDgg/o.jpg',\n",
       "  'is_closed': False,\n",
       "  'url': 'https://www.yelp.com/biz/johns-of-bleecker-street-new-york-2?adjust_creative=R2HmjML1DmwztNnRPWxFzA&utm_campaign=yelp_api_v3&utm_medium=api_v3_business_search&utm_source=R2HmjML1DmwztNnRPWxFzA',\n",
       "  'review_count': 2221,\n",
       "  'categories': [{'alias': 'pizza', 'title': 'Pizza'}],\n",
       "  'rating': 4.0,\n",
       "  'coordinates': {'latitude': 40.73158, 'longitude': -74.00332},\n",
       "  'transactions': ['delivery', 'pickup'],\n",
       "  'price': '$$',\n",
       "  'location': {'address1': '278 Bleecker St',\n",
       "   'address2': '',\n",
       "   'address3': '',\n",
       "   'city': 'New York',\n",
       "   'zip_code': '10014',\n",
       "   'country': 'US',\n",
       "   'state': 'NY',\n",
       "   'display_address': ['278 Bleecker St', 'New York, NY 10014']},\n",
       "  'phone': '+12122431680',\n",
       "  'display_phone': '(212) 243-1680',\n",
       "  'distance': 3010.899021476809},\n",
       " {'id': 'uc5qQMzs96rzjK27epDCug',\n",
       "  'alias': 'joes-pizza-new-york-4',\n",
       "  'name': \"Joe's Pizza\",\n",
       "  'image_url': 'https://s3-media4.fl.yelpcdn.com/bphoto/1TvTRG9HFmEGaTSBMcUBhA/o.jpg',\n",
       "  'is_closed': False,\n",
       "  'url': 'https://www.yelp.com/biz/joes-pizza-new-york-4?adjust_creative=R2HmjML1DmwztNnRPWxFzA&utm_campaign=yelp_api_v3&utm_medium=api_v3_business_search&utm_source=R2HmjML1DmwztNnRPWxFzA',\n",
       "  'review_count': 2753,\n",
       "  'categories': [{'alias': 'pizza', 'title': 'Pizza'}],\n",
       "  'rating': 4.0,\n",
       "  'coordinates': {'latitude': 40.73060076, 'longitude': -74.00215997},\n",
       "  'transactions': ['delivery'],\n",
       "  'price': '$',\n",
       "  'location': {'address1': '7 Carmine St',\n",
       "   'address2': '',\n",
       "   'address3': '',\n",
       "   'city': 'New York',\n",
       "   'zip_code': '10014',\n",
       "   'country': 'US',\n",
       "   'state': 'NY',\n",
       "   'display_address': ['7 Carmine St', 'New York, NY 10014']},\n",
       "  'phone': '+12123661182',\n",
       "  'display_phone': '(212) 366-1182',\n",
       "  'distance': 2874.702513677348},\n",
       " {'id': 'C8j0q4Ma_S5hBGuAI-aaww',\n",
       "  'alias': 'di-fara-pizza-brooklyn',\n",
       "  'name': 'Di Fara Pizza',\n",
       "  'image_url': 'https://s3-media3.fl.yelpcdn.com/bphoto/4dfe9qpe20P-vi3qFjWd4Q/o.jpg',\n",
       "  'is_closed': False,\n",
       "  'url': 'https://www.yelp.com/biz/di-fara-pizza-brooklyn?adjust_creative=R2HmjML1DmwztNnRPWxFzA&utm_campaign=yelp_api_v3&utm_medium=api_v3_business_search&utm_source=R2HmjML1DmwztNnRPWxFzA',\n",
       "  'review_count': 3719,\n",
       "  'categories': [{'alias': 'pizza', 'title': 'Pizza'}],\n",
       "  'rating': 4.0,\n",
       "  'coordinates': {'latitude': 40.625093, 'longitude': -73.961531},\n",
       "  'transactions': ['delivery', 'pickup'],\n",
       "  'price': '$$',\n",
       "  'location': {'address1': '1424 Ave J',\n",
       "   'address2': '',\n",
       "   'address3': '',\n",
       "   'city': 'Brooklyn',\n",
       "   'zip_code': '11230',\n",
       "   'country': 'US',\n",
       "   'state': 'NY',\n",
       "   'display_address': ['1424 Ave J', 'Brooklyn, NY 11230']},\n",
       "  'phone': '+17182581367',\n",
       "  'display_phone': '(718) 258-1367',\n",
       "  'distance': 9352.269072867253},\n",
       " {'id': 'hdiuRS9sVZSMReZm4oV5SA',\n",
       "  'alias': 'da-andrea-new-york',\n",
       "  'name': 'Da Andrea',\n",
       "  'image_url': 'https://s3-media3.fl.yelpcdn.com/bphoto/yBl-VKDfH4vqF_YavQgQaw/o.jpg',\n",
       "  'is_closed': False,\n",
       "  'url': 'https://www.yelp.com/biz/da-andrea-new-york?adjust_creative=R2HmjML1DmwztNnRPWxFzA&utm_campaign=yelp_api_v3&utm_medium=api_v3_business_search&utm_source=R2HmjML1DmwztNnRPWxFzA',\n",
       "  'review_count': 1143,\n",
       "  'categories': [{'alias': 'italian', 'title': 'Italian'},\n",
       "   {'alias': 'bars', 'title': 'Bars'}],\n",
       "  'rating': 4.5,\n",
       "  'coordinates': {'latitude': 40.736218, 'longitude': -73.99597},\n",
       "  'transactions': ['delivery', 'restaurant_reservation', 'pickup'],\n",
       "  'price': '$$',\n",
       "  'location': {'address1': '35 W 13th St',\n",
       "   'address2': '',\n",
       "   'address3': '',\n",
       "   'city': 'New York',\n",
       "   'zip_code': '10011',\n",
       "   'country': 'US',\n",
       "   'state': 'NY',\n",
       "   'display_address': ['35 W 13th St', 'New York, NY 10011']},\n",
       "  'phone': '+12123671979',\n",
       "  'display_phone': '(212) 367-1979',\n",
       "  'distance': 3424.7293369303584},\n",
       " {'id': 'oJ_XSPZFpvIt6rvheSQl7A',\n",
       "  'alias': 'bleecker-street-pizza-new-york',\n",
       "  'name': 'Bleecker Street Pizza',\n",
       "  'image_url': 'https://s3-media4.fl.yelpcdn.com/bphoto/Kyi2tP43S_a6s-zXD38NUQ/o.jpg',\n",
       "  'is_closed': False,\n",
       "  'url': 'https://www.yelp.com/biz/bleecker-street-pizza-new-york?adjust_creative=R2HmjML1DmwztNnRPWxFzA&utm_campaign=yelp_api_v3&utm_medium=api_v3_business_search&utm_source=R2HmjML1DmwztNnRPWxFzA',\n",
       "  'review_count': 2543,\n",
       "  'categories': [{'alias': 'pizza', 'title': 'Pizza'},\n",
       "   {'alias': 'italian', 'title': 'Italian'}],\n",
       "  'rating': 4.0,\n",
       "  'coordinates': {'latitude': 40.7320627016512,\n",
       "   'longitude': -74.0036552270137},\n",
       "  'transactions': ['delivery', 'pickup'],\n",
       "  'price': '$',\n",
       "  'location': {'address1': '69 7th Ave S',\n",
       "   'address2': None,\n",
       "   'address3': '',\n",
       "   'city': 'New York',\n",
       "   'zip_code': '10014',\n",
       "   'country': 'US',\n",
       "   'state': 'NY',\n",
       "   'display_address': ['69 7th Ave S', 'New York, NY 10014']},\n",
       "  'phone': '+12129244466',\n",
       "  'display_phone': '(212) 924-4466',\n",
       "  'distance': 3073.5742196084057},\n",
       " {'id': 'v1DHGRNCH9247WLYoaoA9A',\n",
       "  'alias': 'l-industrie-pizzeria-brooklyn',\n",
       "  'name': \"L'industrie Pizzeria\",\n",
       "  'image_url': 'https://s3-media2.fl.yelpcdn.com/bphoto/_tHRJGBaVtQD4L-hFK9jjw/o.jpg',\n",
       "  'is_closed': False,\n",
       "  'url': 'https://www.yelp.com/biz/l-industrie-pizzeria-brooklyn?adjust_creative=R2HmjML1DmwztNnRPWxFzA&utm_campaign=yelp_api_v3&utm_medium=api_v3_business_search&utm_source=R2HmjML1DmwztNnRPWxFzA',\n",
       "  'review_count': 658,\n",
       "  'categories': [{'alias': 'pizza', 'title': 'Pizza'}],\n",
       "  'rating': 4.5,\n",
       "  'coordinates': {'latitude': 40.71162, 'longitude': -73.95783},\n",
       "  'transactions': ['delivery'],\n",
       "  'price': '$',\n",
       "  'location': {'address1': '254 S 2nd St',\n",
       "   'address2': '',\n",
       "   'address3': '',\n",
       "   'city': 'Brooklyn',\n",
       "   'zip_code': '11211',\n",
       "   'country': 'US',\n",
       "   'state': 'NY',\n",
       "   'display_address': ['254 S 2nd St', 'Brooklyn, NY 11211']},\n",
       "  'phone': '+17185990002',\n",
       "  'display_phone': '(718) 599-0002',\n",
       "  'distance': 3145.016041338447},\n",
       " {'id': 'QfCbV1_VIjfCkowro_WGNA',\n",
       "  'alias': 'luigis-pizza-brooklyn',\n",
       "  'name': \"Luigi's Pizza\",\n",
       "  'image_url': 'https://s3-media3.fl.yelpcdn.com/bphoto/WsGK3FQqwN79wtbczYR3ZQ/o.jpg',\n",
       "  'is_closed': False,\n",
       "  'url': 'https://www.yelp.com/biz/luigis-pizza-brooklyn?adjust_creative=R2HmjML1DmwztNnRPWxFzA&utm_campaign=yelp_api_v3&utm_medium=api_v3_business_search&utm_source=R2HmjML1DmwztNnRPWxFzA',\n",
       "  'review_count': 383,\n",
       "  'categories': [{'alias': 'pizza', 'title': 'Pizza'}],\n",
       "  'rating': 4.5,\n",
       "  'coordinates': {'latitude': 40.66163, 'longitude': -73.99334},\n",
       "  'transactions': ['delivery', 'pickup'],\n",
       "  'price': '$',\n",
       "  'location': {'address1': '686 5th Ave',\n",
       "   'address2': '',\n",
       "   'address3': '',\n",
       "   'city': 'Brooklyn',\n",
       "   'zip_code': '11215',\n",
       "   'country': 'US',\n",
       "   'state': 'NY',\n",
       "   'display_address': ['686 5th Ave', 'Brooklyn, NY 11215']},\n",
       "  'phone': '+17184993857',\n",
       "  'display_phone': '(718) 499-3857',\n",
       "  'distance': 4871.041578229889},\n",
       " {'id': '0UdC0VYX6aAvLiOcpR4MVQ',\n",
       "  'alias': 'joes-pizza-new-york-7',\n",
       "  'name': \"Joe's Pizza\",\n",
       "  'image_url': 'https://s3-media3.fl.yelpcdn.com/bphoto/BTCcvlqxlp2MOeK_rHa8lQ/o.jpg',\n",
       "  'is_closed': False,\n",
       "  'url': 'https://www.yelp.com/biz/joes-pizza-new-york-7?adjust_creative=R2HmjML1DmwztNnRPWxFzA&utm_campaign=yelp_api_v3&utm_medium=api_v3_business_search&utm_source=R2HmjML1DmwztNnRPWxFzA',\n",
       "  'review_count': 972,\n",
       "  'categories': [{'alias': 'pizza', 'title': 'Pizza'}],\n",
       "  'rating': 4.0,\n",
       "  'coordinates': {'latitude': 40.73331, 'longitude': -73.98763},\n",
       "  'transactions': ['delivery', 'pickup'],\n",
       "  'price': '$',\n",
       "  'location': {'address1': '150 E 14th St',\n",
       "   'address2': '',\n",
       "   'address3': '',\n",
       "   'city': 'New York',\n",
       "   'zip_code': '10003',\n",
       "   'country': 'US',\n",
       "   'state': 'NY',\n",
       "   'display_address': ['150 E 14th St', 'New York, NY 10003']},\n",
       "  'phone': '+12123889474',\n",
       "  'display_phone': '(212) 388-9474',\n",
       "  'distance': 3140.2631090277323},\n",
       " {'id': 'TWH4MjLtN1fKlF-7n6YXHg',\n",
       "  'alias': 'lil-frankies-new-york',\n",
       "  'name': \"Lil Frankie's\",\n",
       "  'image_url': 'https://s3-media3.fl.yelpcdn.com/bphoto/t0OsEVlzDWgM_NMGVHmPiA/o.jpg',\n",
       "  'is_closed': False,\n",
       "  'url': 'https://www.yelp.com/biz/lil-frankies-new-york?adjust_creative=R2HmjML1DmwztNnRPWxFzA&utm_campaign=yelp_api_v3&utm_medium=api_v3_business_search&utm_source=R2HmjML1DmwztNnRPWxFzA',\n",
       "  'review_count': 1302,\n",
       "  'categories': [{'alias': 'pizza', 'title': 'Pizza'},\n",
       "   {'alias': 'italian', 'title': 'Italian'}],\n",
       "  'rating': 4.0,\n",
       "  'coordinates': {'latitude': 40.723625, 'longitude': -73.988555},\n",
       "  'transactions': ['delivery', 'pickup'],\n",
       "  'price': '$$',\n",
       "  'location': {'address1': '19 1st Ave',\n",
       "   'address2': '',\n",
       "   'address3': '',\n",
       "   'city': 'New York',\n",
       "   'zip_code': '10003',\n",
       "   'country': 'US',\n",
       "   'state': 'NY',\n",
       "   'display_address': ['19 1st Ave', 'New York, NY 10003']},\n",
       "  'phone': '+12124204900',\n",
       "  'display_phone': '(212) 420-4900',\n",
       "  'distance': 2079.0350425992006},\n",
       " {'id': 'i_rg-OLXQbpRUN7O3MeCeA',\n",
       "  'alias': 'piz-zetta-brooklyn-2',\n",
       "  'name': 'Piz-zetta',\n",
       "  'image_url': 'https://s3-media2.fl.yelpcdn.com/bphoto/9L4viDwAGx3obgYLnXMA6g/o.jpg',\n",
       "  'is_closed': False,\n",
       "  'url': 'https://www.yelp.com/biz/piz-zetta-brooklyn-2?adjust_creative=R2HmjML1DmwztNnRPWxFzA&utm_campaign=yelp_api_v3&utm_medium=api_v3_business_search&utm_source=R2HmjML1DmwztNnRPWxFzA',\n",
       "  'review_count': 311,\n",
       "  'categories': [{'alias': 'italian', 'title': 'Italian'},\n",
       "   {'alias': 'pizza', 'title': 'Pizza'}],\n",
       "  'rating': 4.5,\n",
       "  'coordinates': {'latitude': 40.69116702978358,\n",
       "   'longitude': -73.99063458220886},\n",
       "  'transactions': ['delivery', 'pickup'],\n",
       "  'price': '$',\n",
       "  'location': {'address1': '90 Livingston St',\n",
       "   'address2': '',\n",
       "   'address3': '',\n",
       "   'city': 'Brooklyn',\n",
       "   'zip_code': '11201',\n",
       "   'country': 'US',\n",
       "   'state': 'NY',\n",
       "   'display_address': ['90 Livingston St', 'Brooklyn, NY 11201']},\n",
       "  'phone': '+17184227878',\n",
       "  'display_phone': '(718) 422-7878',\n",
       "  'distance': 1617.3036699199326},\n",
       " {'id': 'hGksyTiHBBdrhbiVjXzWVw',\n",
       "  'alias': 'scarrs-pizza-new-york',\n",
       "  'name': \"Scarr's Pizza\",\n",
       "  'image_url': 'https://s3-media3.fl.yelpcdn.com/bphoto/xonxGJK91P_Ow3iY7olsxA/o.jpg',\n",
       "  'is_closed': False,\n",
       "  'url': 'https://www.yelp.com/biz/scarrs-pizza-new-york?adjust_creative=R2HmjML1DmwztNnRPWxFzA&utm_campaign=yelp_api_v3&utm_medium=api_v3_business_search&utm_source=R2HmjML1DmwztNnRPWxFzA',\n",
       "  'review_count': 542,\n",
       "  'categories': [{'alias': 'pizza', 'title': 'Pizza'}],\n",
       "  'rating': 4.0,\n",
       "  'coordinates': {'latitude': 40.71534, 'longitude': -73.9914},\n",
       "  'transactions': ['delivery', 'pickup'],\n",
       "  'price': '$',\n",
       "  'location': {'address1': '22 Orchard St',\n",
       "   'address2': '',\n",
       "   'address3': '',\n",
       "   'city': 'New York',\n",
       "   'zip_code': '10002',\n",
       "   'country': 'US',\n",
       "   'state': 'NY',\n",
       "   'display_address': ['22 Orchard St', 'New York, NY 10002']},\n",
       "  'phone': '+12123343481',\n",
       "  'display_phone': '(212) 334-3481',\n",
       "  'distance': 1125.7843300426755},\n",
       " {'id': 'xxgcU_oFIox_pAmroo9WwA',\n",
       "  'alias': 'front-street-pizza-brooklyn',\n",
       "  'name': 'Front Street Pizza',\n",
       "  'image_url': 'https://s3-media1.fl.yelpcdn.com/bphoto/ybrfmg0lGdBoJRM7X1_s3A/o.jpg',\n",
       "  'is_closed': False,\n",
       "  'url': 'https://www.yelp.com/biz/front-street-pizza-brooklyn?adjust_creative=R2HmjML1DmwztNnRPWxFzA&utm_campaign=yelp_api_v3&utm_medium=api_v3_business_search&utm_source=R2HmjML1DmwztNnRPWxFzA',\n",
       "  'review_count': 403,\n",
       "  'categories': [{'alias': 'pizza', 'title': 'Pizza'},\n",
       "   {'alias': 'bars', 'title': 'Bars'},\n",
       "   {'alias': 'italian', 'title': 'Italian'}],\n",
       "  'rating': 4.0,\n",
       "  'coordinates': {'latitude': 40.70244, 'longitude': -73.98943},\n",
       "  'transactions': ['delivery', 'pickup'],\n",
       "  'price': '$',\n",
       "  'location': {'address1': '80 Front St',\n",
       "   'address2': '',\n",
       "   'address3': '',\n",
       "   'city': 'Brooklyn',\n",
       "   'zip_code': '11201',\n",
       "   'country': 'US',\n",
       "   'state': 'NY',\n",
       "   'display_address': ['80 Front St', 'Brooklyn, NY 11201']},\n",
       "  'phone': '+17188753700',\n",
       "  'display_phone': '(718) 875-3700',\n",
       "  'distance': 550.4392264831844}]"
      ]
     },
     "execution_count": 44,
     "metadata": {},
     "output_type": "execute_result"
    }
   ],
   "source": [
    "response_json['businesses']"
   ]
  },
  {
   "cell_type": "code",
   "execution_count": 47,
   "metadata": {
    "ExecuteTime": {
     "end_time": "2022-03-04T19:43:30.484316Z",
     "start_time": "2022-03-04T19:43:09.474936Z"
    }
   },
   "outputs": [
    {
     "data": {
      "text/plain": [
       "335"
      ]
     },
     "execution_count": 47,
     "metadata": {},
     "output_type": "execute_result"
    }
   ],
   "source": [
    "full_dataset = []\n",
    "\n",
    "for offset in get_offsets(total):\n",
    "    # Add or update the \"offset\" key-value pair in url_params\n",
    "    url_params[\"offset\"] = offset\n",
    "    \n",
    "    # Make the query and get the response\n",
    "    response = requests.get(url, headers=headers, params=url_params)\n",
    "    \n",
    "    # Get the response body in JSON format\n",
    "    response_json = response.json()\n",
    "    \n",
    "    # Get the list of businesses from the response_json\n",
    "    businesses = response_json[\"businesses\"]\n",
    "    \n",
    "    # Call the prepare_data function to get a list of processed data\n",
    "    prepared_businesses = prepare_data(businesses)\n",
    "    \n",
    "    # Extend full_dataset with this list (don't append, or you'll get\n",
    "    # a list of lists instead of a flat list)\n",
    "    full_dataset.extend(prepared_businesses)\n",
    "\n",
    "# Check the length of the full dataset. It will be up to `total`,\n",
    "# potentially less if there were missing values\n",
    "len(full_dataset)"
   ]
  },
  {
   "cell_type": "code",
   "execution_count": 50,
   "metadata": {
    "ExecuteTime": {
     "end_time": "2022-03-04T19:44:32.210057Z",
     "start_time": "2022-03-04T19:44:32.198297Z"
    }
   },
   "outputs": [
    {
     "data": {
      "text/plain": [
       "[{'name': 'Prince Street Pizza',\n",
       "  'review_count': 4218,\n",
       "  'rating': 4.5,\n",
       "  'price': '$',\n",
       "  'latitude': 40.72308755605564,\n",
       "  'longitude': -73.99453001177575},\n",
       " {'name': 'Rubirosa',\n",
       "  'review_count': 2567,\n",
       "  'rating': 4.5,\n",
       "  'price': '$$',\n",
       "  'latitude': 40.722766,\n",
       "  'longitude': -73.996233},\n",
       " {'name': \"Lombardi's Pizza\",\n",
       "  'review_count': 6267,\n",
       "  'rating': 4.0,\n",
       "  'price': '$$',\n",
       "  'latitude': 40.7215934960083,\n",
       "  'longitude': -73.9955956044561},\n",
       " {'name': \"Juliana's\",\n",
       "  'review_count': 2402,\n",
       "  'rating': 4.5,\n",
       "  'price': '$$',\n",
       "  'latitude': 40.70274718768062,\n",
       "  'longitude': -73.99343490196397},\n",
       " {'name': \"Grimaldi's Pizzeria\",\n",
       "  'review_count': 4738,\n",
       "  'rating': 3.5,\n",
       "  'price': '$$',\n",
       "  'latitude': 40.702583,\n",
       "  'longitude': -73.9932413},\n",
       " {'name': 'Lucali',\n",
       "  'review_count': 1763,\n",
       "  'rating': 4.0,\n",
       "  'price': '$$',\n",
       "  'latitude': 40.6818,\n",
       "  'longitude': -74.00024},\n",
       " {'name': 'Gelso & Grand',\n",
       "  'review_count': 1168,\n",
       "  'rating': 4.5,\n",
       "  'price': '$$',\n",
       "  'latitude': 40.7194089547259,\n",
       "  'longitude': -73.9973777877722}]"
      ]
     },
     "execution_count": 50,
     "metadata": {},
     "output_type": "execute_result"
    }
   ],
   "source": [
    "full_dataset[0:7]"
   ]
  },
  {
   "cell_type": "markdown",
   "metadata": {},
   "source": [
    "This code may take up to a few minutes to run.\n",
    "\n",
    "If you get an error trying to get the response body in JSON format, try adding `time.sleep(1)` right after the `requests.get` line, so your code will sleep for 1 second between each API call."
   ]
  },
  {
   "cell_type": "markdown",
   "metadata": {},
   "source": [
    "## 3. Perform Exploratory Analysis\n",
    "\n",
    "Take the businesses from the previous question and do an initial exploratory analysis. We have provided some plots for you to interpret:"
   ]
  },
  {
   "cell_type": "code",
   "execution_count": 48,
   "metadata": {
    "ExecuteTime": {
     "end_time": "2022-03-04T19:43:57.846731Z",
     "start_time": "2022-03-04T19:43:53.359370Z"
    }
   },
   "outputs": [
    {
     "data": {
      "image/png": "[encoded data removed]",
      "text/plain": [
       "<Figure size 1152x360 with 3 Axes>"
      ]
     },
     "metadata": {
      "needs_background": "light"
     },
     "output_type": "display_data"
    }
   ],
   "source": [
    "# Run this cell without changes\n",
    "from collections import Counter\n",
    "import matplotlib.pyplot as plt\n",
    "%matplotlib inline\n",
    "\n",
    "fig, (ax1, ax2, ax3) = plt.subplots(ncols=3, figsize=(16, 5))\n",
    "\n",
    "# Plot distribution of number of reviews\n",
    "all_review_counts = [x[\"review_count\"] for x in full_dataset]\n",
    "ax1.hist(all_review_counts)\n",
    "ax1.set_title(\"Review Count Distribution\")\n",
    "ax1.set_xlabel(\"Number of Reviews\")\n",
    "ax1.set_ylabel(\"Number of Businesses\")\n",
    "\n",
    "# Plot rating distribution\n",
    "all_ratings = [x[\"rating\"] for x in full_dataset]\n",
    "rating_counter = Counter(all_ratings)\n",
    "rating_keys = sorted(rating_counter.keys())\n",
    "ax2.bar(rating_keys, [rating_counter[key] for key in rating_keys])\n",
    "ax2.set_title(\"Rating Distribution\")\n",
    "ax2.set_xlabel(\"Rating\")\n",
    "ax2.set_ylabel(\"Number of Businesses\")\n",
    "\n",
    "# Plot price distribution\n",
    "all_prices = [x[\"price\"].replace(\"$\", r\"\\$\") for x in full_dataset]\n",
    "price_counter = Counter(all_prices)\n",
    "price_keys = sorted(price_counter.keys())\n",
    "ax3.bar(price_keys, [price_counter[key] for key in price_keys])\n",
    "ax3.set_title(\"Price Distribution\")\n",
    "ax3.set_xlabel(\"Price Category\")\n",
    "ax3.set_ylabel(\"Number of Businesses\");"
   ]
  },
  {
   "cell_type": "markdown",
   "metadata": {},
   "source": [
    "Describe the distributions displayed above and interpret them in the context of your query. (Your answer may differ from the solution branch depending on your query.)"
   ]
  },
  {
   "cell_type": "code",
   "execution_count": null,
   "metadata": {},
   "outputs": [],
   "source": [
    "# Replace None with appropriate text\n",
    "\"\"\"\n",
    "None\n",
    "\"\"\""
   ]
  },
  {
   "cell_type": "markdown",
   "metadata": {},
   "source": [
    "In the cell below, we also plot the rating distributions by price. In this setup, a price of one dollar sign is \"lower price\" and everything else is \"higher price\"."
   ]
  },
  {
   "cell_type": "code",
   "execution_count": 51,
   "metadata": {
    "ExecuteTime": {
     "end_time": "2022-03-04T19:47:39.135771Z",
     "start_time": "2022-03-04T19:47:38.982778Z"
    }
   },
   "outputs": [
    {
     "data": {
      "image/png": "[encoded data removed]",
      "text/plain": [
       "<Figure size 432x288 with 1 Axes>"
      ]
     },
     "metadata": {
      "needs_background": "light"
     },
     "output_type": "display_data"
    }
   ],
   "source": [
    "# Run this cell without changes\n",
    "\n",
    "higher_price = []\n",
    "lower_price = []\n",
    "for row in full_dataset:\n",
    "    if row[\"price\"] == \"$\":\n",
    "        lower_price.append(row[\"rating\"])\n",
    "    else:\n",
    "        higher_price.append(row[\"rating\"])\n",
    "        \n",
    "fig, ax = plt.subplots()\n",
    "\n",
    "ax.hist([higher_price, lower_price], label=[\"higher price\", \"lower price\"], density=True)\n",
    "\n",
    "ax.legend();"
   ]
  },
  {
   "cell_type": "markdown",
   "metadata": {},
   "source": [
    "Is a higher price associated with a higher rating? (No need for any additional math/statistics, just interpret what you see in the plot.)"
   ]
  },
  {
   "cell_type": "code",
   "execution_count": null,
   "metadata": {},
   "outputs": [],
   "source": [
    "# Replace None with appropriate text\n",
    "\"\"\"\n",
    "None\n",
    "\"\"\""
   ]
  },
  {
   "cell_type": "markdown",
   "metadata": {},
   "source": [
    "Finally, let's look at ratings vs. review counts:"
   ]
  },
  {
   "cell_type": "code",
   "execution_count": 52,
   "metadata": {
    "ExecuteTime": {
     "end_time": "2022-03-04T19:48:36.681845Z",
     "start_time": "2022-03-04T19:48:36.520847Z"
    }
   },
   "outputs": [
    {
     "data": {
      "image/png": "[encoded data removed]",
      "text/plain": [
       "<Figure size 1152x360 with 1 Axes>"
      ]
     },
     "metadata": {
      "needs_background": "light"
     },
     "output_type": "display_data"
    }
   ],
   "source": [
    "# Run this cell without changes\n",
    "fig, ax = plt.subplots(figsize=(16,5))\n",
    "\n",
    "ax.scatter(all_review_counts, all_ratings, alpha=0.2)\n",
    "ax.set_xlabel(\"Number of Reviews\")\n",
    "ax.set_ylabel(\"Rating\")\n",
    "# \"zoom in\" to a subset of review counts\n",
    "ax.set_xlim(left=0, right=1000);"
   ]
  },
  {
   "cell_type": "markdown",
   "metadata": {},
   "source": [
    "Is a higher number of reviews associated with a higher rating?"
   ]
  },
  {
   "cell_type": "code",
   "execution_count": 53,
   "metadata": {
    "ExecuteTime": {
     "end_time": "2022-03-04T19:49:14.487632Z",
     "start_time": "2022-03-04T19:49:14.469786Z"
    }
   },
   "outputs": [
    {
     "data": {
      "text/plain": [
       "'\\nNone\\n'"
      ]
     },
     "execution_count": 53,
     "metadata": {},
     "output_type": "execute_result"
    }
   ],
   "source": [
    "# Replace None with appropriate text\n",
    "\"\"\"\n",
    "None\n",
    "\"\"\""
   ]
  },
  {
   "cell_type": "markdown",
   "metadata": {},
   "source": [
    "## 4. Create a Folium Map\n",
    "\n",
    "Make a map using Folium of the businesses you retrieved. Be sure to also add popups to the markers giving some basic information such as name, rating and price.\n",
    "\n",
    "You can center the map around the latitude and longitude of the first item in `full_dataset`."
   ]
  },
  {
   "cell_type": "code",
   "execution_count": 54,
   "metadata": {
    "ExecuteTime": {
     "end_time": "2022-03-04T19:54:28.365124Z",
     "start_time": "2022-03-04T19:54:17.593879Z"
    }
   },
   "outputs": [
    {
     "data": {
      "text/html": [
       "<div style=\"width:100%;\"><div style=\"position:relative;width:100%;height:0;padding-bottom:60%;\"><span style=\"color:#565656\">Make this Notebook Trusted to load map: File -> Trust Notebook</span><iframe src=\"about:blank\" style=\"position:absolute;width:100%;height:100%;left:0;top:0;border:none !important;\" data-html=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 onload=\"this.contentDocument.open();this.contentDocument.write(atob(this.getAttribute('data-html')));this.contentDocument.close();\" allowfullscreen webkitallowfullscreen mozallowfullscreen></iframe></div></div>"
      ],
      "text/plain": [
       "<folium.folium.Map at 0x1ccb53567c0>"
      ]
     },
     "execution_count": 54,
     "metadata": {},
     "output_type": "execute_result"
    }
   ],
   "source": [
    "# Replace None with appropriate code\n",
    "\n",
    "# Import the library\n",
    "import folium\n",
    "\n",
    "# Set up center latitude and longitude\n",
    "center_lat = 40.72308755605564\n",
    "center_long = -73.99453001177575\n",
    "\n",
    "# Initialize map with center lat and long\n",
    "yelp_map = folium.Map([center_lat, center_long], zoom_start=13)\n",
    "\n",
    "# Adjust this limit to see more or fewer businesses\n",
    "limit=100\n",
    "\n",
    "for business in full_dataset[:limit]:\n",
    "    # Extract information about business\n",
    "    lat = business['latitude']\n",
    "    long = business['longitude']\n",
    "    name = business['name']\n",
    "    rating = business['rating']\n",
    "    price = business['price']\n",
    "    details = \"{}\\nPrice: {} Rating:{}\".format(name,price,rating)\n",
    "    \n",
    "    # Create popup with relevant details\n",
    "    popup = folium.Popup(details, parse_html=True)\n",
    "    \n",
    "    # Create marker with relevant lat/long and popup\n",
    "    marker = folium.Marker(location=[lat, long], popup=popup)\n",
    "    \n",
    "    marker.add_to(yelp_map)\n",
    "    \n",
    "yelp_map"
   ]
  },
  {
   "cell_type": "markdown",
   "metadata": {},
   "source": [
    "## Summary\n",
    "\n",
    "Nice work! In this lab, you've made multiple API calls to Yelp in order to paginate through a results set, performing some basic exploratory analysis and then creating a nice interactive map to display the results using Folium! Well done!"
   ]
  }
 ],
 "metadata": {
  "kernelspec": {
   "display_name": "Python 3",
   "language": "python",
   "name": "python3"
  },
  "language_info": {
   "codemirror_mode": {
    "name": "ipython",
    "version": 3
   },
   "file_extension": ".py",
   "mimetype": "text/x-python",
   "name": "python",
   "nbconvert_exporter": "python",
   "pygments_lexer": "ipython3",
   "version": "3.8.5"
  },
  "toc": {
   "base_numbering": 1,
   "nav_menu": {},
   "number_sections": true,
   "sideBar": true,
   "skip_h1_title": false,
   "title_cell": "Table of Contents",
   "title_sidebar": "Contents",
   "toc_cell": false,
   "toc_position": {},
   "toc_section_display": true,
   "toc_window_display": false
  },
  "varInspector": {
   "cols": {
    "lenName": 16,
    "lenType": 16,
    "lenVar": 40
   },
   "kernels_config": {
    "python": {
     "delete_cmd_postfix": "",
     "delete_cmd_prefix": "del ",
     "library": "var_list.py",
     "varRefreshCmd": "print(var_dic_list())"
    },
    "r": {
     "delete_cmd_postfix": ") ",
     "delete_cmd_prefix": "rm(",
     "library": "var_list.r",
     "varRefreshCmd": "cat(var_dic_list()) "
    }
   },
   "types_to_exclude": [
    "module",
    "function",
    "builtin_function_or_method",
    "instance",
    "_Feature"
   ],
   "window_display": false
  }
 },
 "nbformat": 4,
 "nbformat_minor": 2
}
